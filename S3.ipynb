{
 "cells": [
  {
   "cell_type": "code",
   "execution_count": 1,
   "metadata": {},
   "outputs": [
    {
     "name": "stdout",
     "output_type": "stream",
     "text": [
      "Num GPUs Available:  1\n"
     ]
    },
    {
     "data": {
      "text/html": [
       "<div>\n",
       "<style scoped>\n",
       "    .dataframe tbody tr th:only-of-type {\n",
       "        vertical-align: middle;\n",
       "    }\n",
       "\n",
       "    .dataframe tbody tr th {\n",
       "        vertical-align: top;\n",
       "    }\n",
       "\n",
       "    .dataframe thead th {\n",
       "        text-align: right;\n",
       "    }\n",
       "</style>\n",
       "<table border=\"1\" class=\"dataframe\">\n",
       "  <thead>\n",
       "    <tr style=\"text-align: right;\">\n",
       "      <th></th>\n",
       "      <th>A00147</th>\n",
       "      <th>174</th>\n",
       "    </tr>\n",
       "  </thead>\n",
       "  <tbody>\n",
       "    <tr>\n",
       "      <th>0</th>\n",
       "      <td>A00360</td>\n",
       "      <td>203</td>\n",
       "    </tr>\n",
       "    <tr>\n",
       "      <th>1</th>\n",
       "      <td>A00367</td>\n",
       "      <td>83</td>\n",
       "    </tr>\n",
       "    <tr>\n",
       "      <th>2</th>\n",
       "      <td>A01054</td>\n",
       "      <td>225</td>\n",
       "    </tr>\n",
       "    <tr>\n",
       "      <th>3</th>\n",
       "      <td>A01072</td>\n",
       "      <td>6265</td>\n",
       "    </tr>\n",
       "    <tr>\n",
       "      <th>4</th>\n",
       "      <td>A01077</td>\n",
       "      <td>16</td>\n",
       "    </tr>\n",
       "  </tbody>\n",
       "</table>\n",
       "</div>"
      ],
      "text/plain": [
       "   A00147   174\n",
       "0  A00360   203\n",
       "1  A00367    83\n",
       "2  A01054   225\n",
       "3  A01072  6265\n",
       "4  A01077    16"
      ]
     },
     "execution_count": 1,
     "metadata": {},
     "output_type": "execute_result"
    }
   ],
   "source": [
    "# 1. For i in front/*; do imagemagick/convert 300x300px ...\n",
    "# 2. Del all images with 2kb (sort, manual, Windows Explorer)\n",
    "# 3. Basic Preparation Data with bash\n",
    "#    cat sentencing.csv | sed -e 's/LIFE/100/g' |awk -F\\; '{print $1 \" \" $7}'| awk 'BEGIN {id=\"id\"; yrs=\"years\"} id != $1 {print id\",\"yrs; id=$1; yrs=$2 } id != \"id\" {yrs = yrs + $2}' >id_years.csv\n",
    "\n",
    "# Images and Pre-Trained model files are large\n",
    "rootdir='C:\\\\Users\\\\Sandow\\\\Documents\\\\CAS AML Project\\\\cas-aml-prisioners'\n",
    "\n",
    "import pandas as pd\n",
    "import os\n",
    "import tensorflow as tf\n",
    "from tensorflow import keras\n",
    "import matplotlib.pyplot as plt\n",
    "import numpy as np\n",
    "\n",
    "os.environ[\"PATH\"] += os.pathsep + 'C:\\\\Program Files (x86)\\\\Graphviz\\\\bin'\n",
    "os.environ[\"PATH\"] += os.pathsep + 'C:\\\\Program Files\\\\NVIDIA GPU Computing Toolkit\\\\CUDA\\\\v10.1\\\\lib\\\\x64'\n",
    "os.environ[\"CUDA_PATH\"] = 'C:\\\\Program Files\\\\NVIDIA GPU Computing Toolkit\\\\CUDA\\\\v10.1\\\\'\n",
    "\n",
    "print(\"Num GPUs Available: \", len(tf.config.experimental.list_physical_devices('GPU')))\n",
    "tf.config.list_physical_devices()\n",
    "\n",
    "sentence_f='id_years2.csv'\n",
    "sentence = pd.read_csv(sentence_f)\n",
    "sentence.head()\n"
   ]
  },
  {
   "cell_type": "code",
   "execution_count": 2,
   "metadata": {},
   "outputs": [
    {
     "data": {
      "text/html": [
       "<div>\n",
       "<style scoped>\n",
       "    .dataframe tbody tr th:only-of-type {\n",
       "        vertical-align: middle;\n",
       "    }\n",
       "\n",
       "    .dataframe tbody tr th {\n",
       "        vertical-align: top;\n",
       "    }\n",
       "\n",
       "    .dataframe thead th {\n",
       "        text-align: right;\n",
       "    }\n",
       "</style>\n",
       "<table border=\"1\" class=\"dataframe\">\n",
       "  <thead>\n",
       "    <tr style=\"text-align: right;\">\n",
       "      <th></th>\n",
       "      <th>174</th>\n",
       "    </tr>\n",
       "  </thead>\n",
       "  <tbody>\n",
       "    <tr>\n",
       "      <th>count</th>\n",
       "      <td>50004.000000</td>\n",
       "    </tr>\n",
       "    <tr>\n",
       "      <th>mean</th>\n",
       "      <td>48.072334</td>\n",
       "    </tr>\n",
       "    <tr>\n",
       "      <th>std</th>\n",
       "      <td>76.353458</td>\n",
       "    </tr>\n",
       "    <tr>\n",
       "      <th>min</th>\n",
       "      <td>0.000000</td>\n",
       "    </tr>\n",
       "    <tr>\n",
       "      <th>25%</th>\n",
       "      <td>16.000000</td>\n",
       "    </tr>\n",
       "    <tr>\n",
       "      <th>50%</th>\n",
       "      <td>29.000000</td>\n",
       "    </tr>\n",
       "    <tr>\n",
       "      <th>75%</th>\n",
       "      <td>55.000000</td>\n",
       "    </tr>\n",
       "    <tr>\n",
       "      <th>max</th>\n",
       "      <td>6265.000000</td>\n",
       "    </tr>\n",
       "  </tbody>\n",
       "</table>\n",
       "</div>"
      ],
      "text/plain": [
       "                174\n",
       "count  50004.000000\n",
       "mean      48.072334\n",
       "std       76.353458\n",
       "min        0.000000\n",
       "25%       16.000000\n",
       "50%       29.000000\n",
       "75%       55.000000\n",
       "max     6265.000000"
      ]
     },
     "execution_count": 2,
     "metadata": {},
     "output_type": "execute_result"
    }
   ],
   "source": [
    "sentence.describe()"
   ]
  },
  {
   "cell_type": "raw",
   "metadata": {},
   "source": [
    "# classification in 4 classes (upto11, upto22, upto45, more)\n",
    "Sandow@Silentmaxx-ms MINGW64 /d/data/unibe/CAS AML Project\n",
    "$ cat classes.sh\n",
    "mkdir -f 11 22 45 more\n",
    "pixdir=front/front/300px/\n",
    "\n",
    "awk -F, '{print $1\" \"$2}' <id_years.csv |while read id yrs; do\n",
    "  if [ X$yrs == \"Xyears\" ]; then confinue; fi\n",
    "  if [ $yrs -le 11 ]; then\n",
    "    cp -fa $pixdir$id.jpg 11/\n",
    "  elif [ $yrs -le 22 ]; then\n",
    "    cp -fa $pixdir$id.jpg 22/\n",
    "  elif [ $yrs -le 45 ]; then\n",
    "    cp -fa $pixdir$id.jpg 45/\n",
    "  else\n",
    "    cp -fa $pixdir$id.jpg more/\n",
    "  fi\n",
    "done\n",
    "# Kick out lines without image\n",
    "awk -F, '{print $1\" \"$2}' <id_years.csv |while read id yrs; do test -f front/front/300px/$id.jpg && echo \"$id,$yrs\"; done >id_years2.csv\n"
   ]
  },
  {
   "cell_type": "code",
   "execution_count": 3,
   "metadata": {},
   "outputs": [
    {
     "name": "stdout",
     "output_type": "stream",
     "text": [
      "('Failed to import pydot. You must `pip install pydot` and install graphviz (https://graphviz.gitlab.io/download/), ', 'for `pydotprint` to work.')\n"
     ]
    }
   ],
   "source": [
    "keras.backend.clear_session()\n",
    "np.random.seed(42)\n",
    "tf.random.set_seed(42)\n",
    "\n",
    "model = keras.models.Sequential([\n",
    "    keras.layers.Flatten(input_shape=[300, 300,3]),\n",
    "    keras.layers.Dense(300, activation=\"relu\"),\n",
    "    keras.layers.Dense(100, activation=\"relu\"),\n",
    "    keras.layers.Dense(4, activation=\"softmax\")\n",
    "])\n",
    "keras.utils.plot_model(model, \"my_perpetrators.png\", show_shapes=True)"
   ]
  },
  {
   "cell_type": "code",
   "execution_count": 4,
   "metadata": {},
   "outputs": [
    {
     "name": "stdout",
     "output_type": "stream",
     "text": [
      "Found 40021 images belonging to 4 classes.\n",
      "Found 10004 images belonging to 4 classes.\n"
     ]
    }
   ],
   "source": [
    "image_size = (300, 300)\n",
    "batch_size = 128\n",
    "directory=os.path.join(rootdir,'Prisioners')\n",
    "\n",
    "dataset = tf.keras.preprocessing.image.ImageDataGenerator(\n",
    "        rescale=1./255,\n",
    "        validation_split=0.2\n",
    "        )\n",
    "train_ds=dataset.flow_from_directory(\n",
    "    directory, target_size=image_size, color_mode='rgb', classes=None,\n",
    "    class_mode='categorical', batch_size=batch_size, seed=42,\n",
    "    subset=\"training\")\n",
    "val_ds=dataset.flow_from_directory(\n",
    "    directory, target_size=image_size, color_mode='rgb', classes=None,\n",
    "    class_mode='categorical', batch_size=batch_size, seed=42,\n",
    "    subset=\"validation\")\n"
   ]
  },
  {
   "cell_type": "code",
   "execution_count": 5,
   "metadata": {},
   "outputs": [
    {
     "name": "stdout",
     "output_type": "stream",
     "text": [
      "Epoch 1/10\n",
      "313/313 [==============================] - 155s 495ms/step - loss: 5.2713 - accuracy: 0.3102 - val_loss: 5.2846 - val_accuracy: 0.3109\n",
      "Epoch 2/10\n",
      "313/313 [==============================] - 161s 514ms/step - loss: 5.2845 - accuracy: 0.3109 - val_loss: 5.2846 - val_accuracy: 0.3109\n",
      "Epoch 3/10\n",
      "313/313 [==============================] - 162s 518ms/step - loss: 5.2845 - accuracy: 0.3109 - val_loss: 5.2846 - val_accuracy: 0.3109\n",
      "Epoch 4/10\n",
      "313/313 [==============================] - 159s 509ms/step - loss: 5.2845 - accuracy: 0.3109 - val_loss: 5.2846 - val_accuracy: 0.3109\n",
      "Epoch 5/10\n",
      "313/313 [==============================] - 163s 522ms/step - loss: 5.2845 - accuracy: 0.3109 - val_loss: 5.2846 - val_accuracy: 0.3109\n",
      "Epoch 6/10\n",
      "313/313 [==============================] - 161s 516ms/step - loss: 5.2845 - accuracy: 0.3109 - val_loss: 5.2846 - val_accuracy: 0.3109\n",
      "Epoch 7/10\n",
      "313/313 [==============================] - 164s 525ms/step - loss: 5.2845 - accuracy: 0.3109 - val_loss: 5.2846 - val_accuracy: 0.3109\n",
      "Epoch 8/10\n",
      "313/313 [==============================] - 160s 512ms/step - loss: 5.2845 - accuracy: 0.3109 - val_loss: 5.2846 - val_accuracy: 0.3109\n",
      "Epoch 9/10\n",
      "313/313 [==============================] - 159s 507ms/step - loss: 5.2845 - accuracy: 0.3109 - val_loss: 5.2846 - val_accuracy: 0.3109\n",
      "Epoch 10/10\n",
      "313/313 [==============================] - 159s 508ms/step - loss: 5.2845 - accuracy: 0.3109 - val_loss: 5.2846 - val_accuracy: 0.3109\n"
     ]
    },
    {
     "data": {
      "text/plain": [
       "<tensorflow.python.keras.callbacks.History at 0x27bb04bacd0>"
      ]
     },
     "execution_count": 5,
     "metadata": {},
     "output_type": "execute_result"
    }
   ],
   "source": [
    "epochs = 10\n",
    "\n",
    "callbacks = [\n",
    "    keras.callbacks.ModelCheckpoint(\"save_at_{epoch}.h5\"),\n",
    "]\n",
    "model.compile(\n",
    "    optimizer=keras.optimizers.Adam(1e-3),\n",
    "    loss=\"binary_crossentropy\",\n",
    "    metrics=[\"accuracy\"],\n",
    ")\n",
    "model.fit(\n",
    "    train_ds, epochs=epochs, validation_data=val_ds,\n",
    ")\n"
   ]
  },
  {
   "cell_type": "code",
   "execution_count": null,
   "metadata": {},
   "outputs": [],
   "source": []
  }
 ],
 "metadata": {
  "kernelspec": {
   "display_name": "Python 3",
   "language": "python",
   "name": "python3"
  },
  "language_info": {
   "codemirror_mode": {
    "name": "ipython",
    "version": 3
   },
   "file_extension": ".py",
   "mimetype": "text/x-python",
   "name": "python",
   "nbconvert_exporter": "python",
   "pygments_lexer": "ipython3",
   "version": "3.8.5"
  }
 },
 "nbformat": 4,
 "nbformat_minor": 4
}
